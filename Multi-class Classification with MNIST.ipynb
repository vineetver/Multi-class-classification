{
 "cells": [
  {
   "cell_type": "markdown",
   "metadata": {
    "colab_type": "text",
    "id": "TL5y5fY9Jy_x"
   },
   "source": [
    "# Multi-Class Classification"
   ]
  },
  {
   "cell_type": "markdown",
   "metadata": {
    "colab_type": "text",
    "id": "XuKlphuImFSN"
   },
   "source": [
    "## Objectives:\n",
    "\n",
    "  * Creating a deep neural network that performs multi-class classification.\n",
    "  * Tuning the deep neural network.\n"
   ]
  },
  {
   "cell_type": "markdown",
   "metadata": {
    "colab_type": "text",
    "id": "cxj8yVh4mFl5"
   },
   "source": [
    "## About the Dataset.\n",
    "  \n",
    "This MNIST dataset contains a lot of examples:\n",
    "\n",
    "* The MNIST training set contains 60,000 examples.\n",
    "* The MNIST test set contains 10,000 examples.\n",
    "\n",
    "Each example contains a pixel map showing how a person wrote a digit. For example, the following images shows how a person wrote the digit `1` and how that digit might be represented in a 14x14 pixel map (after the input data is normalized). \n",
    "\n",
    "![Two images. The first image shows a somewhat fuzzy digit one. The second image shows a 14x14 floating-point array in which most of the cells contain 0 but a few cells contain values between 0.0 and 1.0. The pattern of nonzero values corresponds to the image of the fuzzy digit in the first image.](https://www.tensorflow.org/images/MNIST-Matrix.png)\n",
    "\n",
    "Each example in the MNIST dataset consists of:\n",
    "\n",
    "* A label specified by a rater.  Each label must be an integer from 0 to 9.  \n",
    "* A 28x28 pixel map, where each pixel is an integer between 0 and 255. The pixel values are on a gray scale in which 0 represents white, 255 represents black, and values between 0 and 255 represent various shades of gray.  \n",
    "\n",
    "This is a multi-class classification problem with 10 output classes."
   ]
  },
  {
   "cell_type": "markdown",
   "metadata": {
    "colab_type": "text",
    "id": "xchnxAsaKKqO"
   },
   "source": [
    "## Importing modules"
   ]
  },
  {
   "cell_type": "code",
   "execution_count": 1,
   "metadata": {
    "cellView": "form",
    "colab": {},
    "colab_type": "code",
    "id": "9n9_cTveKmse"
   },
   "outputs": [],
   "source": [
    "import numpy as np\n",
    "import pandas as pd\n",
    "import tensorflow as tf\n",
    "from tensorflow.keras import layers\n",
    "from matplotlib import pyplot as plt\n",
    "\n",
    "# granularity\n",
    "pd.options.display.max_rows = 10\n",
    "pd.options.display.float_format = \"{:.1f}\".format\n",
    "\n",
    "# improves formatting when ouputting NumPy arrays\n",
    "np.set_printoptions(linewidth = 200)"
   ]
  },
  {
   "cell_type": "markdown",
   "metadata": {
    "colab_type": "text",
    "id": "X_TaJhU4KcuY"
   },
   "source": [
    "## Loading the dataset\n",
    "\n",
    "In `tf.keras` the function for importing MNIST dataset is called `mnist.load_data()`:"
   ]
  },
  {
   "cell_type": "code",
   "execution_count": 2,
   "metadata": {
    "colab": {},
    "colab_type": "code",
    "id": "JZlvdpyYKx7V"
   },
   "outputs": [],
   "source": [
    "(x_train, y_train),(x_test, y_test) = tf.keras.datasets.mnist.load_data()\n"
   ]
  },
  {
   "cell_type": "markdown",
   "metadata": {
    "colab_type": "text",
    "id": "SfQkr3hxJGXU"
   },
   "source": [
    "* `x_train` contains the training set's features.\n",
    "* `y_train` contains the training set's labels.\n",
    "* `x_test` contains the test set's features.\n",
    "* `y_test` contains the test set's labels.\n",
    "\n",
    "#### MNIST dataset is already shuffled."
   ]
  },
  {
   "cell_type": "markdown",
   "metadata": {
    "colab_type": "text",
    "id": "71vsSUM7pdmu"
   },
   "source": [
    "## Exploring the dataset\n",
    "\n",
    "The .csv file for MNIST does not contain column names. Instead of column names, you use ordinal numbers to access different subsets of the MNIST dataset. "
   ]
  },
  {
   "cell_type": "code",
   "execution_count": 3,
   "metadata": {
    "colab": {},
    "colab_type": "code",
    "id": "IoOhpjkeCL8Q"
   },
   "outputs": [
    {
     "data": {
      "text/plain": [
       "array([[  0,   0,   0,   0,   0,   0,   0,   0,   0,   0,   0,   0,   0,   0,   0,   0,   0,   0,   0,   0,   0,   0,   0,   0,   0,   0,   0,   0],\n",
       "       [  0,   0,   0,   0,   0,   0,   0,   0,   0,   0,   0,   0,   0,   0,   0,   0,   0,   0,   0,   0,   0,   0,   0,   0,   0,   0,   0,   0],\n",
       "       [  0,   0,   0,   0,   0,   0,   0,   0,   0,   0,   0,   0,   0,   0,   0,   0,   0,   0,   0,   0,   0,   0,   0,   0,   0,   0,   0,   0],\n",
       "       [  0,   0,   0,   0,   0,   0,   0,   0,   1, 171, 253, 133,   0,   0,   0,   0,   0,   0,   0,   0,   0,   0,   0,   0,   0,   0,   0,   0],\n",
       "       [  0,   0,   0,   0,   0,   0,   0,   0, 125, 252, 252, 247,  93,   0,   0,   0,   0,   0,   0,   0,   0,   0,   0,   0,   0,   0,   0,   0],\n",
       "       [  0,   0,   0,   0,   0,   0,   0,   6, 160, 252, 252, 252, 211,   0,   0,   0,   0,   0,   0,   0,   0,   0,   0,   0,   0,   0,   0,   0],\n",
       "       [  0,   0,   0,   0,   0,   0,   0,  37, 252, 252, 210, 108, 190,   0,   0,   0,   0,   0,   0,   0,   0,   0,   0,   0,   0,   0,   0,   0],\n",
       "       [  0,   0,   0,   0,   0,   0,   0,  37, 252, 252, 179,   0,   0,   0,   0,   0,   0,   0,   0,   0,   0,   0,   0,   0,   0,   0,   0,   0],\n",
       "       [  0,   0,   0,   0,   0,   0,   0,  37, 252, 252, 179,   0,   0,   0,   0,   0,   0,   0,   0,   0,   0,   0,   0,   0,   0,   0,   0,   0],\n",
       "       [  0,   0,   0,   0,   0,   0,   0,  37, 252, 252, 179,   0,   0,   0,   0,   0,   0,   0,   0,   0,   0,   0,   0,   0,   0,   0,   0,   0],\n",
       "       [  0,   0,   0,   0,   0,   0,   0,  37, 252, 252, 179,   0,   0,   0,   0,   0,   0,   0,   0,   0,   0,   0,   0,   0,   0,   0,   0,   0],\n",
       "       [  0,   0,   0,   0,   0,   0,   0,  37, 253, 253, 180,   0,   0,   0,   0,   0,   0,   0,   0,   0,   0,   0,   0,   0,   0,   0,   0,   0],\n",
       "       [  0,   0,   0,   0,   0,   0,   0,  37, 252, 252, 242,  62,   0,   0,   0,  11, 155, 218, 217, 196,  73,   0,   0,   0,   0,   0,   0,   0],\n",
       "       [  0,   0,   0,   0,   0,   0,   0,  32, 236, 252, 252,  71,   0,   0,  73, 191, 252, 253, 252, 252, 252, 105,   0,   0,   0,   0,   0,   0],\n",
       "       [  0,   0,   0,   0,   0,   0,   0,   0, 144, 252, 252,  71,   0, 145, 237, 252, 252, 253, 252, 252, 252, 144,   0,   0,   0,   0,   0,   0],\n",
       "       [  0,   0,   0,   0,   0,   0,   0,   0,  84, 253, 253, 232,  47, 255, 253, 253, 253,  84,   0, 182, 253, 255,  35,   0,   0,   0,   0,   0],\n",
       "       [  0,   0,   0,   0,   0,   0,   0,   0,   1, 128, 252, 252, 232, 253, 252, 179,  35,   0,   0,  57, 252, 253,  35,   0,   0,   0,   0,   0],\n",
       "       [  0,   0,   0,   0,   0,   0,   0,   0,   0,  94, 247, 252, 252, 253, 200,  20,   0,   0,   0, 140, 252, 253,  35,   0,   0,   0,   0,   0],\n",
       "       [  0,   0,   0,   0,   0,   0,   0,   0,   0,   0, 134, 252, 252, 253, 179,   0,   0,   0,   0, 181, 252, 253,  35,   0,   0,   0,   0,   0],\n",
       "       [  0,   0,   0,   0,   0,   0,   0,   0,   0,   0,  73, 253, 253, 255, 253, 232, 109,   0,  94, 212, 253, 145,   0,   0,   0,   0,   0,   0],\n",
       "       [  0,   0,   0,   0,   0,   0,   0,   0,   0,   0,  73, 252, 252, 253, 252, 252, 252, 218, 247, 252, 252,  20,   0,   0,   0,   0,   0,   0],\n",
       "       [  0,   0,   0,   0,   0,   0,   0,   0,   0,   0,  63, 241, 252, 253, 231, 252, 252, 253, 252, 246, 132,   0,   0,   0,   0,   0,   0,   0],\n",
       "       [  0,   0,   0,   0,   0,   0,   0,   0,   0,   0,   0, 181, 252, 108,  46, 108, 108, 108, 108,  92,   0,   0,   0,   0,   0,   0,   0,   0],\n",
       "       [  0,   0,   0,   0,   0,   0,   0,   0,   0,   0,   0,   0,   0,   0,   0,   0,   0,   0,   0,   0,   0,   0,   0,   0,   0,   0,   0,   0],\n",
       "       [  0,   0,   0,   0,   0,   0,   0,   0,   0,   0,   0,   0,   0,   0,   0,   0,   0,   0,   0,   0,   0,   0,   0,   0,   0,   0,   0,   0],\n",
       "       [  0,   0,   0,   0,   0,   0,   0,   0,   0,   0,   0,   0,   0,   0,   0,   0,   0,   0,   0,   0,   0,   0,   0,   0,   0,   0,   0,   0],\n",
       "       [  0,   0,   0,   0,   0,   0,   0,   0,   0,   0,   0,   0,   0,   0,   0,   0,   0,   0,   0,   0,   0,   0,   0,   0,   0,   0,   0,   0],\n",
       "       [  0,   0,   0,   0,   0,   0,   0,   0,   0,   0,   0,   0,   0,   0,   0,   0,   0,   0,   0,   0,   0,   0,   0,   0,   0,   0,   0,   0]], dtype=uint8)"
      ]
     },
     "execution_count": 3,
     "metadata": {},
     "output_type": "execute_result"
    }
   ],
   "source": [
    "x_train[1918]"
   ]
  },
  {
   "cell_type": "code",
   "execution_count": 4,
   "metadata": {},
   "outputs": [
    {
     "data": {
      "text/plain": [
       "(60000, 28, 28)"
      ]
     },
     "execution_count": 4,
     "metadata": {},
     "output_type": "execute_result"
    }
   ],
   "source": [
    "x_train.shape "
   ]
  },
  {
   "cell_type": "markdown",
   "metadata": {
    "colab_type": "text",
    "id": "LNJrJKUwvZMR"
   },
   "source": [
    "using `matplotlib.pyplot.imshow` to interpret the array as an image. "
   ]
  },
  {
   "cell_type": "code",
   "execution_count": 5,
   "metadata": {
    "colab": {},
    "colab_type": "code",
    "id": "siRC8a1hJvmq"
   },
   "outputs": [
    {
     "data": {
      "text/plain": [
       "<matplotlib.image.AxesImage at 0x7f0a4840ff28>"
      ]
     },
     "execution_count": 5,
     "metadata": {},
     "output_type": "execute_result"
    },
    {
     "data": {
      "image/png": "[encoded data removed]",
      "text/plain": [
       "<Figure size 432x288 with 1 Axes>"
      ]
     },
     "metadata": {
      "needs_background": "light"
     },
     "output_type": "display_data"
    }
   ],
   "source": [
    "plt.imshow(x_train[1918])"
   ]
  },
  {
   "cell_type": "code",
   "execution_count": 6,
   "metadata": {
    "colab": {},
    "colab_type": "code",
    "id": "V-he9IcihDxb"
   },
   "outputs": [
    {
     "data": {
      "text/plain": [
       "array([  0,   0,   0,   0,   0,   0,   0,   6, 160, 252, 252, 252, 211,   0,   0,   0,   0,   0,   0,   0,   0,   0,   0,   0,   0,   0,   0,   0], dtype=uint8)"
      ]
     },
     "execution_count": 6,
     "metadata": {},
     "output_type": "execute_result"
    }
   ],
   "source": [
    "# 5th row of example 1918\n",
    "x_train[1918][5]"
   ]
  },
  {
   "cell_type": "code",
   "execution_count": 7,
   "metadata": {
    "colab": {},
    "colab_type": "code",
    "id": "DUEWipalhQ8J"
   },
   "outputs": [
    {
     "data": {
      "text/plain": [
       "11"
      ]
     },
     "execution_count": 7,
     "metadata": {},
     "output_type": "execute_result"
    }
   ],
   "source": [
    "# 19th pixel of row 5 of example 1918\n",
    "x_train[2917][10][19]"
   ]
  },
  {
   "cell_type": "markdown",
   "metadata": {
    "colab_type": "text",
    "id": "8ldP-5z1B2vL"
   },
   "source": [
    "## Normalizing feature values"
   ]
  },
  {
   "cell_type": "code",
   "execution_count": 8,
   "metadata": {
    "colab": {},
    "colab_type": "code",
    "id": "4YQljE-wizDw"
   },
   "outputs": [
    {
     "name": "stdout",
     "output_type": "stream",
     "text": [
      "[0.         0.         0.         0.         0.         0.         0.         0.02352941 0.62745098 0.98823529 0.98823529 0.98823529 0.82745098 0.         0.         0.         0.         0.\n",
      " 0.         0.         0.         0.         0.         0.         0.         0.         0.         0.        ]\n"
     ]
    }
   ],
   "source": [
    "x_train_normalized = x_train / 255.00\n",
    "x_test_normalized = x_test / 255.00\n",
    "print(x_train_normalized[1918][5]) "
   ]
  },
  {
   "cell_type": "markdown",
   "metadata": {
    "colab_type": "text",
    "id": "ZBWRF6CStuNA"
   },
   "source": [
    "## Defining a plotting function"
   ]
  },
  {
   "cell_type": "code",
   "execution_count": 9,
   "metadata": {
    "cellView": "form",
    "colab": {},
    "colab_type": "code",
    "id": "QF0BFRXTOeR3"
   },
   "outputs": [],
   "source": [
    "\"\"\" curve of one or more classification metrics vs epoch \"\"\" \n",
    "def plot_curve(epochs, hist, list_of_metrics): \n",
    "\n",
    "# METRICS = [\n",
    "#      keras.metrics.TruePositives(name='tp'),\n",
    "#      keras.metrics.FalsePositives(name='fp'),\n",
    "#      keras.metrics.TrueNegatives(name='tn'),\n",
    "#      keras.metrics.FalseNegatives(name='fn'), \n",
    "#      keras.metrics.BinaryAccuracy(name='accuracy'),\n",
    "#      keras.metrics.Precision(name='precision'),\n",
    "#      keras.metrics.Recall(name='recall'),\n",
    "#      keras.metrics.AUC(name='auc'),\n",
    "#   ]\n",
    "\n",
    "  plt.figure()\n",
    "  plt.xlabel(\"Epoch\")\n",
    "  plt.ylabel(\"Value\")\n",
    "\n",
    "  for m in list_of_metrics:\n",
    "    x = hist[m]\n",
    "    plt.plot(epochs[1:], x[1:], label=m)\n",
    "\n",
    "  plt.legend()"
   ]
  },
  {
   "cell_type": "markdown",
   "metadata": {
    "colab_type": "text",
    "id": "3014ezH3C7jT"
   },
   "source": [
    "## Creating a deep neural net model"
   ]
  },
  {
   "cell_type": "code",
   "execution_count": 10,
   "metadata": {
    "cellView": "both",
    "colab": {},
    "colab_type": "code",
    "id": "pedD5GhlDC-y"
   },
   "outputs": [],
   "source": [
    "def create_model(my_learning_rate):\n",
    "  \n",
    "  model = tf.keras.models.Sequential()\n",
    "\n",
    "    \n",
    "  # converting two-dimensional 28x28 array into a one-dimensional \n",
    "  # 784 element array.\n",
    "  model.add(tf.keras.layers.Flatten(input_shape=(28, 28)))\n",
    "\n",
    "\n",
    "  # layer 1\n",
    "  model.add(tf.keras.layers.Dense(units=20, activation='relu'))\n",
    "  \n",
    "  # layer 2\n",
    "  model.add(tf.keras.layers.Dense(units=10, activation='relu'))\n",
    "    \n",
    "  # regularization layer \n",
    "  model.add(tf.keras.layers.Dropout(rate=0.2))\n",
    "\n",
    "  # output layer\n",
    "  model.add(tf.keras.layers.Dense(units=10, activation='softmax'))     \n",
    "                            \n",
    "  model.compile(optimizer=tf.keras.optimizers.Adam(lr=my_learning_rate),\n",
    "                loss=\"sparse_categorical_crossentropy\",\n",
    "                metrics=['accuracy'])\n",
    "  \n",
    "  return model    \n",
    "\n",
    "\n",
    "\"\"\" Train the model \"\"\"\n",
    "def train_model(model, train_features, train_label, epochs,\n",
    "                batch_size=None, validation_split=0.1):\n",
    "  \n",
    "\n",
    "  history = model.fit(x=train_features, y=train_label, batch_size=batch_size,\n",
    "                      epochs=epochs, shuffle=True, \n",
    "                      validation_split=validation_split)\n",
    " \n",
    "  \n",
    "  epochs = history.epoch\n",
    "  hist = pd.DataFrame(history.history)\n",
    "\n",
    "  return epochs, hist    "
   ]
  },
  {
   "cell_type": "markdown",
   "metadata": {
    "colab_type": "text",
    "id": "D-IXYVfvM4gD"
   },
   "source": [
    "## Training the model"
   ]
  },
  {
   "cell_type": "code",
   "execution_count": 11,
   "metadata": {},
   "outputs": [],
   "source": [
    "import warnings\n",
    "warnings.filterwarnings('ignore')\n",
    "tf.compat.v1.logging.set_verbosity(tf.compat.v1.logging.ERROR)\n",
    "\n",
    "#suppress warnings"
   ]
  },
  {
   "cell_type": "code",
   "execution_count": 12,
   "metadata": {
    "cellView": "both",
    "colab": {},
    "colab_type": "code",
    "id": "nj3v5EKQFY8s",
    "scrolled": true
   },
   "outputs": [
    {
     "name": "stdout",
     "output_type": "stream",
     "text": [
      "Epoch 1/50\n",
      "12/12 [==============================] - 0s 15ms/step - loss: 2.2681 - accuracy: 0.1303 - val_loss: 2.1113 - val_accuracy: 0.2148\n",
      "Epoch 2/50\n",
      "12/12 [==============================] - 0s 6ms/step - loss: 2.0293 - accuracy: 0.2218 - val_loss: 1.8608 - val_accuracy: 0.3291\n",
      "Epoch 3/50\n",
      "12/12 [==============================] - 0s 5ms/step - loss: 1.8202 - accuracy: 0.3427 - val_loss: 1.6184 - val_accuracy: 0.5009\n",
      "Epoch 4/50\n",
      "12/12 [==============================] - 0s 5ms/step - loss: 1.6242 - accuracy: 0.4450 - val_loss: 1.4108 - val_accuracy: 0.6127\n",
      "Epoch 5/50\n",
      "12/12 [==============================] - 0s 5ms/step - loss: 1.4620 - accuracy: 0.5346 - val_loss: 1.2359 - val_accuracy: 0.7180\n",
      "Epoch 6/50\n",
      "12/12 [==============================] - 0s 5ms/step - loss: 1.3231 - accuracy: 0.6021 - val_loss: 1.0832 - val_accuracy: 0.7860\n",
      "Epoch 7/50\n",
      "12/12 [==============================] - 0s 5ms/step - loss: 1.2112 - accuracy: 0.6409 - val_loss: 0.9473 - val_accuracy: 0.8209\n",
      "Epoch 8/50\n",
      "12/12 [==============================] - 0s 5ms/step - loss: 1.1107 - accuracy: 0.6583 - val_loss: 0.8346 - val_accuracy: 0.8397\n",
      "Epoch 9/50\n",
      "12/12 [==============================] - 0s 5ms/step - loss: 1.0290 - accuracy: 0.6745 - val_loss: 0.7432 - val_accuracy: 0.8506\n",
      "Epoch 10/50\n",
      "12/12 [==============================] - 0s 5ms/step - loss: 0.9643 - accuracy: 0.6895 - val_loss: 0.6734 - val_accuracy: 0.8593\n",
      "Epoch 11/50\n",
      "12/12 [==============================] - 0s 5ms/step - loss: 0.9088 - accuracy: 0.7001 - val_loss: 0.6180 - val_accuracy: 0.8666\n",
      "Epoch 12/50\n",
      "12/12 [==============================] - 0s 5ms/step - loss: 0.8716 - accuracy: 0.7085 - val_loss: 0.5800 - val_accuracy: 0.8722\n",
      "Epoch 13/50\n",
      "12/12 [==============================] - 0s 5ms/step - loss: 0.8361 - accuracy: 0.7205 - val_loss: 0.5445 - val_accuracy: 0.8766\n",
      "Epoch 14/50\n",
      "12/12 [==============================] - 0s 5ms/step - loss: 0.8152 - accuracy: 0.7307 - val_loss: 0.5154 - val_accuracy: 0.8804\n",
      "Epoch 15/50\n",
      "12/12 [==============================] - 0s 5ms/step - loss: 0.7845 - accuracy: 0.7457 - val_loss: 0.4931 - val_accuracy: 0.8825\n",
      "Epoch 16/50\n",
      "12/12 [==============================] - 0s 5ms/step - loss: 0.7669 - accuracy: 0.7492 - val_loss: 0.4735 - val_accuracy: 0.8857\n",
      "Epoch 17/50\n",
      "12/12 [==============================] - 0s 5ms/step - loss: 0.7441 - accuracy: 0.7571 - val_loss: 0.4560 - val_accuracy: 0.8888\n",
      "Epoch 18/50\n",
      "12/12 [==============================] - 0s 5ms/step - loss: 0.7248 - accuracy: 0.7649 - val_loss: 0.4416 - val_accuracy: 0.8904\n",
      "Epoch 19/50\n",
      "12/12 [==============================] - 0s 7ms/step - loss: 0.7084 - accuracy: 0.7745 - val_loss: 0.4279 - val_accuracy: 0.8925\n",
      "Epoch 20/50\n",
      "12/12 [==============================] - 0s 6ms/step - loss: 0.6971 - accuracy: 0.7839 - val_loss: 0.4165 - val_accuracy: 0.8955\n",
      "Epoch 21/50\n",
      "12/12 [==============================] - 0s 5ms/step - loss: 0.6789 - accuracy: 0.7891 - val_loss: 0.4038 - val_accuracy: 0.8965\n",
      "Epoch 22/50\n",
      "12/12 [==============================] - 0s 6ms/step - loss: 0.6668 - accuracy: 0.7918 - val_loss: 0.3946 - val_accuracy: 0.9002\n",
      "Epoch 23/50\n",
      "12/12 [==============================] - 0s 6ms/step - loss: 0.6574 - accuracy: 0.7976 - val_loss: 0.3882 - val_accuracy: 0.9007\n",
      "Epoch 24/50\n",
      "12/12 [==============================] - 0s 5ms/step - loss: 0.6438 - accuracy: 0.7990 - val_loss: 0.3762 - val_accuracy: 0.9038\n",
      "Epoch 25/50\n",
      "12/12 [==============================] - 0s 5ms/step - loss: 0.6393 - accuracy: 0.8020 - val_loss: 0.3713 - val_accuracy: 0.9027\n",
      "Epoch 26/50\n",
      "12/12 [==============================] - 0s 5ms/step - loss: 0.6231 - accuracy: 0.8062 - val_loss: 0.3631 - val_accuracy: 0.9056\n",
      "Epoch 27/50\n",
      "12/12 [==============================] - 0s 5ms/step - loss: 0.6190 - accuracy: 0.8093 - val_loss: 0.3552 - val_accuracy: 0.9070\n",
      "Epoch 28/50\n",
      "12/12 [==============================] - 0s 5ms/step - loss: 0.6095 - accuracy: 0.8100 - val_loss: 0.3516 - val_accuracy: 0.9087\n",
      "Epoch 29/50\n",
      "12/12 [==============================] - 0s 5ms/step - loss: 0.6026 - accuracy: 0.8121 - val_loss: 0.3440 - val_accuracy: 0.9102\n",
      "Epoch 30/50\n",
      "12/12 [==============================] - 0s 6ms/step - loss: 0.5897 - accuracy: 0.8173 - val_loss: 0.3394 - val_accuracy: 0.9119\n",
      "Epoch 31/50\n",
      "12/12 [==============================] - 0s 5ms/step - loss: 0.5879 - accuracy: 0.8160 - val_loss: 0.3350 - val_accuracy: 0.9128\n",
      "Epoch 32/50\n",
      "12/12 [==============================] - 0s 5ms/step - loss: 0.5826 - accuracy: 0.8205 - val_loss: 0.3298 - val_accuracy: 0.9151\n",
      "Epoch 33/50\n",
      "12/12 [==============================] - 0s 5ms/step - loss: 0.5775 - accuracy: 0.8205 - val_loss: 0.3279 - val_accuracy: 0.9147\n",
      "Epoch 34/50\n",
      "12/12 [==============================] - 0s 6ms/step - loss: 0.5630 - accuracy: 0.8236 - val_loss: 0.3201 - val_accuracy: 0.9162\n",
      "Epoch 35/50\n",
      "12/12 [==============================] - 0s 5ms/step - loss: 0.5582 - accuracy: 0.8262 - val_loss: 0.3163 - val_accuracy: 0.9177\n",
      "Epoch 36/50\n",
      "12/12 [==============================] - 0s 5ms/step - loss: 0.5507 - accuracy: 0.8294 - val_loss: 0.3136 - val_accuracy: 0.9175\n",
      "Epoch 37/50\n",
      "12/12 [==============================] - 0s 5ms/step - loss: 0.5523 - accuracy: 0.8299 - val_loss: 0.3106 - val_accuracy: 0.9175\n",
      "Epoch 38/50\n",
      "12/12 [==============================] - 0s 5ms/step - loss: 0.5446 - accuracy: 0.8311 - val_loss: 0.3059 - val_accuracy: 0.9187\n",
      "Epoch 39/50\n",
      "12/12 [==============================] - 0s 5ms/step - loss: 0.5370 - accuracy: 0.8346 - val_loss: 0.3026 - val_accuracy: 0.9201\n",
      "Epoch 40/50\n",
      "12/12 [==============================] - 0s 6ms/step - loss: 0.5290 - accuracy: 0.8358 - val_loss: 0.2976 - val_accuracy: 0.9209\n",
      "Epoch 41/50\n",
      "12/12 [==============================] - 0s 5ms/step - loss: 0.5261 - accuracy: 0.8361 - val_loss: 0.2967 - val_accuracy: 0.9210\n",
      "Epoch 42/50\n",
      "12/12 [==============================] - 0s 6ms/step - loss: 0.5166 - accuracy: 0.8397 - val_loss: 0.2940 - val_accuracy: 0.9227\n",
      "Epoch 43/50\n",
      "12/12 [==============================] - 0s 6ms/step - loss: 0.5158 - accuracy: 0.8406 - val_loss: 0.2898 - val_accuracy: 0.9236\n",
      "Epoch 44/50\n",
      "12/12 [==============================] - 0s 6ms/step - loss: 0.5087 - accuracy: 0.8409 - val_loss: 0.2870 - val_accuracy: 0.9234\n",
      "Epoch 45/50\n",
      "12/12 [==============================] - 0s 5ms/step - loss: 0.5066 - accuracy: 0.8425 - val_loss: 0.2844 - val_accuracy: 0.9238\n",
      "Epoch 46/50\n",
      "12/12 [==============================] - 0s 5ms/step - loss: 0.5046 - accuracy: 0.8427 - val_loss: 0.2815 - val_accuracy: 0.9253\n",
      "Epoch 47/50\n",
      "12/12 [==============================] - 0s 5ms/step - loss: 0.4982 - accuracy: 0.8436 - val_loss: 0.2798 - val_accuracy: 0.9259\n",
      "Epoch 48/50\n",
      "12/12 [==============================] - 0s 5ms/step - loss: 0.4917 - accuracy: 0.8466 - val_loss: 0.2770 - val_accuracy: 0.9257\n",
      "Epoch 49/50\n",
      "12/12 [==============================] - 0s 5ms/step - loss: 0.4888 - accuracy: 0.8481 - val_loss: 0.2763 - val_accuracy: 0.9250\n",
      "Epoch 50/50\n",
      "12/12 [==============================] - 0s 4ms/step - loss: 0.4835 - accuracy: 0.8491 - val_loss: 0.2712 - val_accuracy: 0.9273\n",
      "\n",
      " Evaluating the new model against the test set:\n",
      "3/3 [==============================] - 0s 2ms/step - loss: 0.2728 - accuracy: 0.9233\n"
     ]
    },
    {
     "data": {
      "text/plain": [
       "[0.272751122713089, 0.92330002784729]"
      ]
     },
     "execution_count": 12,
     "metadata": {},
     "output_type": "execute_result"
    },
    {
     "data": {
      "image/png": "[encoded data removed]",
      "text/plain": [
       "<Figure size 432x288 with 1 Axes>"
      ]
     },
     "metadata": {
      "needs_background": "light"
     },
     "output_type": "display_data"
    }
   ],
   "source": [
    "learning_rate = 0.001\n",
    "epochs = 50\n",
    "batch_size = 4000\n",
    "validation_split = 0.2\n",
    "\n",
    "my_model = None\n",
    "\n",
    "my_model = create_model(learning_rate)\n",
    "\n",
    "\n",
    "epochs, hist = train_model(my_model, x_train_normalized, y_train, \n",
    "                           epochs, batch_size, validation_split)\n",
    "\n",
    "\n",
    "list_of_metrics_to_plot = ['accuracy']\n",
    "plot_curve(epochs, hist, list_of_metrics_to_plot)\n",
    "\n",
    "\n",
    "print(\"\\n Evaluating the new model against the test set:\")\n",
    "my_model.evaluate(x=x_test_normalized, y=y_test, batch_size=batch_size)"
   ]
  },
  {
   "cell_type": "markdown",
   "metadata": {
    "colab_type": "text",
    "id": "Y5IKmk7D49_n"
   },
   "source": [
    "## Optimizing the model\n",
    "\n",
    "Let's try to reach at least 98% accuracy against the test set"
   ]
  },
  {
   "cell_type": "code",
   "execution_count": 13,
   "metadata": {},
   "outputs": [],
   "source": [
    "def create_model(my_learning_rate):\n",
    "  \n",
    "  model = tf.keras.models.Sequential()\n",
    "\n",
    "  model.add(tf.keras.layers.Flatten(input_shape=(28, 28)))\n",
    "\n",
    "\n",
    "  \"\"\" Increasing nodes increased accuracy \"\"\"            # <--------------------  \n",
    "  model.add(tf.keras.layers.Dense(units=256, activation='relu'))\n",
    "  \n",
    "  \"\"\" Adding a second layer decreased loss \"\"\"           # <--------------------\n",
    "  model.add(tf.keras.layers.Dense(units=127, activation='relu'))\n",
    "    \n",
    " \n",
    "  model.add(tf.keras.layers.Dropout(rate=0.2))\n",
    "\n",
    "\n",
    "  model.add(tf.keras.layers.Dense(units=10, activation='softmax'))     \n",
    "                           \n",
    "\n",
    "  model.compile(optimizer=tf.keras.optimizers.Adam(lr=my_learning_rate),\n",
    "                loss=\"sparse_categorical_crossentropy\",\n",
    "                metrics=['accuracy'])\n",
    "  \n",
    "  return model    \n",
    "\n",
    "\n",
    "\"\"\" Train the model \"\"\"\n",
    "def train_model(model, train_features, train_label, epochs,\n",
    "                batch_size=None, validation_split=0.1):\n",
    "  \n",
    "\n",
    "  history = model.fit(x=train_features, y=train_label, batch_size=batch_size,\n",
    "                      epochs=epochs, shuffle=True, \n",
    "                      validation_split=validation_split)\n",
    " \n",
    "  \n",
    "  epochs = history.epoch\n",
    "  hist = pd.DataFrame(history.history)\n",
    "\n",
    "  return epochs, hist    "
   ]
  },
  {
   "cell_type": "code",
   "execution_count": 17,
   "metadata": {
    "scrolled": true
   },
   "outputs": [
    {
     "name": "stdout",
     "output_type": "stream",
     "text": [
      "Epoch 1/60\n",
      "12/12 [==============================] - 0s 12ms/step - loss: 1.5197 - accuracy: 0.5861 - val_loss: 0.6531 - val_accuracy: 0.8500\n",
      "Epoch 2/60\n",
      "12/12 [==============================] - 0s 6ms/step - loss: 0.5706 - accuracy: 0.8312 - val_loss: 0.3466 - val_accuracy: 0.8992\n",
      "Epoch 3/60\n",
      "12/12 [==============================] - 0s 6ms/step - loss: 0.3820 - accuracy: 0.8850 - val_loss: 0.2763 - val_accuracy: 0.9215\n",
      "Epoch 4/60\n",
      "12/12 [==============================] - 0s 6ms/step - loss: 0.3029 - accuracy: 0.9118 - val_loss: 0.2366 - val_accuracy: 0.9337\n",
      "Epoch 5/60\n",
      "12/12 [==============================] - 0s 7ms/step - loss: 0.2599 - accuracy: 0.9251 - val_loss: 0.2075 - val_accuracy: 0.9415\n",
      "Epoch 6/60\n",
      "12/12 [==============================] - 0s 6ms/step - loss: 0.2302 - accuracy: 0.9336 - val_loss: 0.1881 - val_accuracy: 0.9466\n",
      "Epoch 7/60\n",
      "12/12 [==============================] - 0s 6ms/step - loss: 0.2052 - accuracy: 0.9402 - val_loss: 0.1714 - val_accuracy: 0.9523\n",
      "Epoch 8/60\n",
      "12/12 [==============================] - 0s 6ms/step - loss: 0.1831 - accuracy: 0.9467 - val_loss: 0.1596 - val_accuracy: 0.9538\n",
      "Epoch 9/60\n",
      "12/12 [==============================] - 0s 6ms/step - loss: 0.1691 - accuracy: 0.9514 - val_loss: 0.1496 - val_accuracy: 0.9575\n",
      "Epoch 10/60\n",
      "12/12 [==============================] - 0s 6ms/step - loss: 0.1531 - accuracy: 0.9560 - val_loss: 0.1386 - val_accuracy: 0.9612\n",
      "Epoch 11/60\n",
      "12/12 [==============================] - 0s 6ms/step - loss: 0.1401 - accuracy: 0.9591 - val_loss: 0.1318 - val_accuracy: 0.9630\n",
      "Epoch 12/60\n",
      "12/12 [==============================] - 0s 6ms/step - loss: 0.1318 - accuracy: 0.9626 - val_loss: 0.1263 - val_accuracy: 0.9638\n",
      "Epoch 13/60\n",
      "12/12 [==============================] - 0s 6ms/step - loss: 0.1220 - accuracy: 0.9649 - val_loss: 0.1207 - val_accuracy: 0.9653\n",
      "Epoch 14/60\n",
      "12/12 [==============================] - 0s 6ms/step - loss: 0.1132 - accuracy: 0.9676 - val_loss: 0.1161 - val_accuracy: 0.9664\n",
      "Epoch 15/60\n",
      "12/12 [==============================] - 0s 6ms/step - loss: 0.1062 - accuracy: 0.9696 - val_loss: 0.1124 - val_accuracy: 0.9668\n",
      "Epoch 16/60\n",
      "12/12 [==============================] - 0s 6ms/step - loss: 0.0997 - accuracy: 0.9714 - val_loss: 0.1082 - val_accuracy: 0.9683\n",
      "Epoch 17/60\n",
      "12/12 [==============================] - 0s 6ms/step - loss: 0.0934 - accuracy: 0.9729 - val_loss: 0.1059 - val_accuracy: 0.9688\n",
      "Epoch 18/60\n",
      "12/12 [==============================] - 0s 6ms/step - loss: 0.0880 - accuracy: 0.9747 - val_loss: 0.1038 - val_accuracy: 0.9689\n",
      "Epoch 19/60\n",
      "12/12 [==============================] - 0s 6ms/step - loss: 0.0832 - accuracy: 0.9760 - val_loss: 0.1012 - val_accuracy: 0.9695\n",
      "Epoch 20/60\n",
      "12/12 [==============================] - 0s 6ms/step - loss: 0.0784 - accuracy: 0.9775 - val_loss: 0.0980 - val_accuracy: 0.9711\n",
      "Epoch 21/60\n",
      "12/12 [==============================] - 0s 6ms/step - loss: 0.0725 - accuracy: 0.9802 - val_loss: 0.0978 - val_accuracy: 0.9712\n",
      "Epoch 22/60\n",
      "12/12 [==============================] - 0s 6ms/step - loss: 0.0685 - accuracy: 0.9803 - val_loss: 0.0939 - val_accuracy: 0.9715\n",
      "Epoch 23/60\n",
      "12/12 [==============================] - 0s 6ms/step - loss: 0.0640 - accuracy: 0.9822 - val_loss: 0.0932 - val_accuracy: 0.9712\n",
      "Epoch 24/60\n",
      "12/12 [==============================] - 0s 6ms/step - loss: 0.0613 - accuracy: 0.9832 - val_loss: 0.0912 - val_accuracy: 0.9722\n",
      "Epoch 25/60\n",
      "12/12 [==============================] - 0s 6ms/step - loss: 0.0579 - accuracy: 0.9841 - val_loss: 0.0901 - val_accuracy: 0.9727\n",
      "Epoch 26/60\n",
      "12/12 [==============================] - 0s 6ms/step - loss: 0.0552 - accuracy: 0.9844 - val_loss: 0.0889 - val_accuracy: 0.9727\n",
      "Epoch 27/60\n",
      "12/12 [==============================] - 0s 6ms/step - loss: 0.0525 - accuracy: 0.9851 - val_loss: 0.0865 - val_accuracy: 0.9736\n",
      "Epoch 28/60\n",
      "12/12 [==============================] - 0s 6ms/step - loss: 0.0496 - accuracy: 0.9860 - val_loss: 0.0868 - val_accuracy: 0.9732\n",
      "Epoch 29/60\n",
      "12/12 [==============================] - 0s 6ms/step - loss: 0.0464 - accuracy: 0.9875 - val_loss: 0.0859 - val_accuracy: 0.9734\n",
      "Epoch 30/60\n",
      "12/12 [==============================] - 0s 6ms/step - loss: 0.0438 - accuracy: 0.9877 - val_loss: 0.0850 - val_accuracy: 0.9737\n",
      "Epoch 31/60\n",
      "12/12 [==============================] - 0s 6ms/step - loss: 0.0409 - accuracy: 0.9890 - val_loss: 0.0839 - val_accuracy: 0.9741\n",
      "Epoch 32/60\n",
      "12/12 [==============================] - 0s 6ms/step - loss: 0.0391 - accuracy: 0.9893 - val_loss: 0.0848 - val_accuracy: 0.9737\n",
      "Epoch 33/60\n",
      "12/12 [==============================] - 0s 6ms/step - loss: 0.0379 - accuracy: 0.9895 - val_loss: 0.0837 - val_accuracy: 0.9745\n",
      "Epoch 34/60\n",
      "12/12 [==============================] - 0s 6ms/step - loss: 0.0365 - accuracy: 0.9906 - val_loss: 0.0850 - val_accuracy: 0.9750\n",
      "Epoch 35/60\n",
      "12/12 [==============================] - 0s 6ms/step - loss: 0.0346 - accuracy: 0.9908 - val_loss: 0.0829 - val_accuracy: 0.9757\n",
      "Epoch 36/60\n",
      "12/12 [==============================] - 0s 6ms/step - loss: 0.0316 - accuracy: 0.9921 - val_loss: 0.0843 - val_accuracy: 0.9749\n",
      "Epoch 37/60\n",
      "12/12 [==============================] - 0s 6ms/step - loss: 0.0316 - accuracy: 0.9913 - val_loss: 0.0823 - val_accuracy: 0.9751\n",
      "Epoch 38/60\n",
      "12/12 [==============================] - 0s 6ms/step - loss: 0.0288 - accuracy: 0.9924 - val_loss: 0.0817 - val_accuracy: 0.9757\n",
      "Epoch 39/60\n",
      "12/12 [==============================] - 0s 6ms/step - loss: 0.0268 - accuracy: 0.9933 - val_loss: 0.0832 - val_accuracy: 0.9758\n",
      "Epoch 40/60\n",
      "12/12 [==============================] - 0s 6ms/step - loss: 0.0263 - accuracy: 0.9932 - val_loss: 0.0825 - val_accuracy: 0.9758\n",
      "Epoch 41/60\n",
      "12/12 [==============================] - 0s 6ms/step - loss: 0.0254 - accuracy: 0.9934 - val_loss: 0.0818 - val_accuracy: 0.9758\n",
      "Epoch 42/60\n",
      "12/12 [==============================] - 0s 6ms/step - loss: 0.0247 - accuracy: 0.9941 - val_loss: 0.0817 - val_accuracy: 0.9759\n",
      "Epoch 43/60\n",
      "12/12 [==============================] - 0s 6ms/step - loss: 0.0227 - accuracy: 0.9942 - val_loss: 0.0807 - val_accuracy: 0.9768\n",
      "Epoch 44/60\n",
      "12/12 [==============================] - 0s 6ms/step - loss: 0.0215 - accuracy: 0.9947 - val_loss: 0.0811 - val_accuracy: 0.9763\n",
      "Epoch 45/60\n",
      "12/12 [==============================] - 0s 7ms/step - loss: 0.0209 - accuracy: 0.9951 - val_loss: 0.0816 - val_accuracy: 0.9762\n",
      "Epoch 46/60\n",
      "12/12 [==============================] - 0s 6ms/step - loss: 0.0193 - accuracy: 0.9956 - val_loss: 0.0823 - val_accuracy: 0.9763\n",
      "Epoch 47/60\n",
      "12/12 [==============================] - 0s 6ms/step - loss: 0.0192 - accuracy: 0.9952 - val_loss: 0.0821 - val_accuracy: 0.9765\n",
      "Epoch 48/60\n",
      "12/12 [==============================] - 0s 6ms/step - loss: 0.0183 - accuracy: 0.9957 - val_loss: 0.0818 - val_accuracy: 0.9764\n",
      "Epoch 49/60\n",
      "12/12 [==============================] - 0s 6ms/step - loss: 0.0168 - accuracy: 0.9961 - val_loss: 0.0813 - val_accuracy: 0.9770\n",
      "Epoch 50/60\n",
      "12/12 [==============================] - 0s 6ms/step - loss: 0.0165 - accuracy: 0.9960 - val_loss: 0.0823 - val_accuracy: 0.9768\n",
      "Epoch 51/60\n",
      "12/12 [==============================] - 0s 7ms/step - loss: 0.0159 - accuracy: 0.9964 - val_loss: 0.0827 - val_accuracy: 0.9765\n",
      "Epoch 52/60\n",
      "12/12 [==============================] - 0s 6ms/step - loss: 0.0151 - accuracy: 0.9967 - val_loss: 0.0832 - val_accuracy: 0.9776\n",
      "Epoch 53/60\n",
      "12/12 [==============================] - 0s 6ms/step - loss: 0.0141 - accuracy: 0.9971 - val_loss: 0.0841 - val_accuracy: 0.9773\n",
      "Epoch 54/60\n",
      "12/12 [==============================] - 0s 6ms/step - loss: 0.0133 - accuracy: 0.9971 - val_loss: 0.0843 - val_accuracy: 0.9772\n",
      "Epoch 55/60\n",
      "12/12 [==============================] - 0s 6ms/step - loss: 0.0126 - accuracy: 0.9972 - val_loss: 0.0843 - val_accuracy: 0.9774\n",
      "Epoch 56/60\n",
      "12/12 [==============================] - 0s 6ms/step - loss: 0.0120 - accuracy: 0.9974 - val_loss: 0.0835 - val_accuracy: 0.9777\n",
      "Epoch 57/60\n",
      "12/12 [==============================] - 0s 6ms/step - loss: 0.0115 - accuracy: 0.9978 - val_loss: 0.0849 - val_accuracy: 0.9772\n",
      "Epoch 58/60\n",
      "12/12 [==============================] - 0s 6ms/step - loss: 0.0111 - accuracy: 0.9978 - val_loss: 0.0848 - val_accuracy: 0.9782\n",
      "Epoch 59/60\n",
      "12/12 [==============================] - 0s 6ms/step - loss: 0.0110 - accuracy: 0.9978 - val_loss: 0.0849 - val_accuracy: 0.9775\n",
      "Epoch 60/60\n",
      "12/12 [==============================] - 0s 5ms/step - loss: 0.0101 - accuracy: 0.9983 - val_loss: 0.0828 - val_accuracy: 0.9781\n",
      "\n",
      " Evaluating the new model against the test set:\n",
      "3/3 [==============================] - 0s 2ms/step - loss: 0.0731 - accuracy: 0.9803\n"
     ]
    },
    {
     "data": {
      "text/plain": [
       "[0.07314876466989517, 0.9803000092506409]"
      ]
     },
     "execution_count": 17,
     "metadata": {},
     "output_type": "execute_result"
    },
    {
     "data": {
      "image/png": "[encoded data removed]",
      "text/plain": [
       "<Figure size 432x288 with 1 Axes>"
      ]
     },
     "metadata": {
      "needs_background": "light"
     },
     "output_type": "display_data"
    }
   ],
   "source": [
    "learning_rate = 0.001\n",
    "epochs = 60\n",
    "batch_size = 4000\n",
    "validation_split = 0.2\n",
    "\n",
    "my_model = None\n",
    "\n",
    "my_model = create_model(learning_rate)\n",
    "\n",
    "\n",
    "epochs, hist = train_model(my_model, x_train_normalized, y_train, \n",
    "                           epochs, batch_size, validation_split)\n",
    "\n",
    "\n",
    "list_of_metrics_to_plot = ['accuracy']\n",
    "plot_curve(epochs, hist, list_of_metrics_to_plot)\n",
    "\n",
    "\n",
    "print(\"\\n Evaluating the new model against the test set:\")\n",
    "my_model.evaluate(x=x_test_normalized, y=y_test, batch_size=batch_size)"
   ]
  },
  {
   "cell_type": "markdown",
   "metadata": {
    "cellView": "form",
    "colab": {},
    "colab_type": "code",
    "id": "wYG5qXpP5a9n"
   },
   "source": [
    "### Reached 98.1% test accuracy with the following configuration:\n",
    "   * First hidden layer of 256nodes \n",
    "   * second hidden layer of 127 nodes\n",
    "   * dropout regularization rate of 0.2\n",
    "   * epochs = 60, batch_size = 4000\n",
    "\n"
   ]
  }
 ],
 "metadata": {
  "colab": {
   "collapsed_sections": [],
   "name": "Multi-class classification with MNIST.ipynb",
   "private_outputs": true,
   "provenance": []
  },
  "kernelspec": {
   "display_name": "Python 3",
   "language": "python",
   "name": "python3"
  },
  "language_info": {
   "codemirror_mode": {
    "name": "ipython",
    "version": 3
   },
   "file_extension": ".py",
   "mimetype": "text/x-python",
   "name": "python",
   "nbconvert_exporter": "python",
   "pygments_lexer": "ipython3",
   "version": "3.6.11"
  }
 },
 "nbformat": 4,
 "nbformat_minor": 4
}
